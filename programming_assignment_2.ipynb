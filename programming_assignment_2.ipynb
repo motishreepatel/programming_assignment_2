{
 "cells": [
  {
   "cell_type": "code",
   "execution_count": 2,
   "metadata": {},
   "outputs": [
    {
     "name": "stdout",
     "output_type": "stream",
     "text": [
      "Conversion value of  56.0 km to miles is:  34.7928 miles\n"
     ]
    }
   ],
   "source": [
    "#Q - 1. Write a Python program to convert kilometers to miles?\n",
    "#Answer:\n",
    "km = float(input(\"Enter the kilometer: \"))\n",
    "distance_miles = 0.6213 * km\n",
    "\n",
    "print(\"Conversion value of \",km ,\"km to miles is: \", distance_miles, \"miles\")"
   ]
  },
  {
   "cell_type": "code",
   "execution_count": 4,
   "metadata": {},
   "outputs": [
    {
     "name": "stdout",
     "output_type": "stream",
     "text": [
      "Conversion of  100.6 celcius to fahrenheit is:  213.08 fahrenheit\n"
     ]
    }
   ],
   "source": [
    "#Q - 2. Write a Python program to convert Celsius to Fahrenheit?\n",
    "#Answer:\n",
    "cel_temp = float(input(\"Enter temp in celcius: \"))\n",
    "fahren_temp = cel_temp * (9/5) + 32\n",
    "round_num_temp = round(fahren_temp,2)\n",
    "\n",
    "print(\"Conversion of \",cel_temp, \"celcius to fahrenheit is: \", round_num_temp,\"fahrenheit\")"
   ]
  },
  {
   "cell_type": "code",
   "execution_count": 5,
   "metadata": {},
   "outputs": [
    {
     "name": "stdout",
     "output_type": "stream",
     "text": [
      "   September 2020\n",
      "Mo Tu We Th Fr Sa Su\n",
      "    1  2  3  4  5  6\n",
      " 7  8  9 10 11 12 13\n",
      "14 15 16 17 18 19 20\n",
      "21 22 23 24 25 26 27\n",
      "28 29 30\n",
      "\n"
     ]
    }
   ],
   "source": [
    "#Q - 3. Write a Python program to display calendar?\n",
    "#Answer:\n",
    "import calendar\n",
    "\n",
    "year = int(input(\"Pls enter calendar year: \"))\n",
    "month= int(input(\"Pls enter calendar month: \"))\n",
    "\n",
    "print(calendar.month(year,month))"
   ]
  },
  {
   "cell_type": "code",
   "execution_count": 6,
   "metadata": {},
   "outputs": [
    {
     "name": "stdout",
     "output_type": "stream",
     "text": [
      "Root 1: (-0.4+0.4898979485566356j)\n",
      "Root 2: (-0.4-0.4898979485566356j)\n"
     ]
    }
   ],
   "source": [
    "#Q - 4. Write a Python program to solve quadratic equation?\n",
    "#Answer:\n",
    "import math\n",
    "\n",
    "# Get input from the user for the coefficients\n",
    "a = float(input(\"Enter the coefficient a: \"))\n",
    "b = float(input(\"Enter the coefficient b: \"))\n",
    "c = float(input(\"Enter the coefficient c: \"))\n",
    "\n",
    "# Calculate the discriminant\n",
    "discriminant = b**2 - 4*a*c\n",
    "\n",
    "# Check the discriminant for the nature of the roots\n",
    "if discriminant > 0:\n",
    "    # Calculate two distinct real roots\n",
    "    root1 = (-b + math.sqrt(discriminant)) / (2*a)\n",
    "    root2 = (-b - math.sqrt(discriminant)) / (2*a)\n",
    "    print(\"Root 1:\", root1)\n",
    "    print(\"Root 2:\", root2)\n",
    "elif discriminant == 0:\n",
    "    # Calculate a single real root (repeated root)\n",
    "    root = -b / (2*a)\n",
    "    print(\"Root:\", root)\n",
    "else:\n",
    "    # Complex roots\n",
    "    real_part = -b / (2*a)\n",
    "    imaginary_part = math.sqrt(-discriminant) / (2*a)\n",
    "    root1 = complex(real_part, imaginary_part)\n",
    "    root2 = complex(real_part, -imaginary_part)\n",
    "    print(\"Root 1:\", root1)\n",
    "    print(\"Root 2:\", root2)"
   ]
  },
  {
   "cell_type": "code",
   "execution_count": 7,
   "metadata": {},
   "outputs": [
    {
     "name": "stdout",
     "output_type": "stream",
     "text": [
      "Variables before swapping:  8 76\n",
      "variables after swapping:  76 8\n"
     ]
    }
   ],
   "source": [
    "#Q - 5. Write a Python program to swap two variables without temp variable?\n",
    "#Answer:\n",
    "a = 8\n",
    "b= 76\n",
    "print(\"Variables before swapping: \", a,b)\n",
    "a,b = b,a\n",
    "print(\"variables after swapping: \", a,b)"
   ]
  },
  {
   "cell_type": "code",
   "execution_count": null,
   "metadata": {},
   "outputs": [],
   "source": []
  }
 ],
 "metadata": {
  "kernelspec": {
   "display_name": "Python 3.9.6 64-bit",
   "language": "python",
   "name": "python3"
  },
  "language_info": {
   "codemirror_mode": {
    "name": "ipython",
    "version": 3
   },
   "file_extension": ".py",
   "mimetype": "text/x-python",
   "name": "python",
   "nbconvert_exporter": "python",
   "pygments_lexer": "ipython3",
   "version": "3.9.6"
  },
  "orig_nbformat": 4,
  "vscode": {
   "interpreter": {
    "hash": "31f2aee4e71d21fbe5cf8b01ff0e069b9275f58929596ceb00d14d90e3e16cd6"
   }
  }
 },
 "nbformat": 4,
 "nbformat_minor": 2
}
